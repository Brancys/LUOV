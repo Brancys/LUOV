{
 "cells": [
  {
   "cell_type": "code",
   "execution_count": 5,
   "metadata": {},
   "outputs": [],
   "source": [
    "import hashlib\n",
    "from Crypto.Hash import SHAKE128  # Debes instalar pycryptodome si aún no lo tienes."
   ]
  },
  {
   "cell_type": "code",
   "execution_count": 11,
   "metadata": {},
   "outputs": [],
   "source": [
    "def shake128(data, output_len):\n",
    "    shake = hashlib.shake_128()\n",
    "    shake.update(data)\n",
    "    return shake.digest(output_len)\n",
    "\n",
    "def generate_key_pair(r, m, v):\n",
    "    # Paso 1: Generar una semilla privada aleatoria de 32 bytes\n",
    "    private_seed = shake128(b'LUOV-Private-Seed', 32)\n",
    "    \n",
    "    # Paso 2: Derivar la semilla pública y la matriz T a partir de la semilla privada\n",
    "    sponge = SHAKE128.new()\n",
    "    sponge.update(private_seed)\n",
    "    public_seed = sponge.read(32)  # Los primeros 32 bytes son la semilla pública\n",
    "    T = sponge.read((v * m + 7) // 8)  # Matriz T de tamaño v x m\n",
    "    \n",
    "    # Paso 3: Generar C, L, y Q1 a partir de la semilla pública\n",
    "    public_sponge = SHAKE128.new()\n",
    "    public_sponge.update(public_seed)\n",
    "    C = public_sponge.read(m * 1)  # Constante C\n",
    "    L = public_sponge.read(m * (m + v))  # Parte lineal L\n",
    "    Q1 = public_sponge.read(m * (v * (v + 1) // 2 + v * m))  # Primera parte cuadrática Q1\n",
    "\n",
    "    # Paso 4: Generar Q2 a partir de T y Q1\n",
    "    Q2 = find_Q2(Q1, T, m, v)  # Implementa la función find_Q2 según la especificación\n",
    "\n",
    "    # Llave pública consiste en la semilla pública y Q2\n",
    "    public_key = (public_seed, Q2)\n",
    "\n",
    "    # Llave privada es simplemente la semilla privada\n",
    "    private_key = private_seed\n",
    "\n",
    "    return public_key, private_key\n",
    "\n",
    "def find_Q2(Q1, T, m, v):\n",
    "    Q2 = []\n",
    "    for k in range(m):\n",
    "        Pk1 = find_Pk1(k, Q1, v)\n",
    "        Pk2 = find_Pk2(k, Q1, v, m)\n",
    "        Pk3 = compute_Pk3(Pk1, Pk2, T, v, m)\n",
    "        Q2.append(pack_Pk3_to_Q2(Pk3, m))\n",
    "    return Q2\n",
    "\n",
    "def find_Pk1(k, Q1, v):\n",
    "    # Implementa el algoritmo para extraer Pk1 de Q1\n",
    "    Pk1 = [[0] * v for _ in range(v)]\n",
    "    column = 0\n",
    "    for i in range(v):\n",
    "        for j in range(i, v):\n",
    "            Pk1[i][j] = Q1[k * (v * (v + 1) // 2 + v * m) + column]\n",
    "            column += 1\n",
    "    return Pk1\n",
    "\n",
    "def find_Pk2(k, Q1, v, m):\n",
    "    # Implementa el algoritmo para extraer Pk2 de Q1\n",
    "    Pk2 = [[0] * m for _ in range(v)]\n",
    "    column = 0\n",
    "    for i in range(v):\n",
    "        column += v - i\n",
    "        for j in range(m):\n",
    "            Pk2[i][j] = Q1[k * (v * (v + 1) // 2 + v * m) + column]\n",
    "            column += 1\n",
    "    return Pk2\n",
    "\n",
    "def compute_Pk3(Pk1, Pk2, T, v, m):\n",
    "    # Implementa la fórmula para calcular Pk3 a partir de Pk1, Pk2, y T\n",
    "    Pk3 = [[0] * m for _ in range(m)]\n",
    "    for i in range(m):\n",
    "        for j in range(m):\n",
    "            Pk3[i][j] = sum(Pk1[p][q] * T[p][j] for p in range(v) for q in range(v)) + \\\n",
    "                        sum(Pk2[p][j] for p in range(v))\n",
    "    return Pk3\n",
    "\n",
    "def pack_Pk3_to_Q2(Pk3, m):\n",
    "    # Empaca Pk3 en la forma correcta para incluirlo en Q2\n",
    "    Q2_row = []\n",
    "    for i in range(m):\n",
    "        for j in range(i, m):\n",
    "            Q2_row.append(Pk3[i][j])\n",
    "    return Q2_row"
   ]
  },
  {
   "cell_type": "code",
   "execution_count": 15,
   "metadata": {},
   "outputs": [
    {
     "ename": "NameError",
     "evalue": "name 'm' is not defined",
     "output_type": "error",
     "traceback": [
      "\u001b[1;31m---------------------------------------------------------------------------\u001b[0m",
      "\u001b[1;31mNameError\u001b[0m                                 Traceback (most recent call last)",
      "Cell \u001b[1;32mIn[15], line 1\u001b[0m\n\u001b[1;32m----> 1\u001b[0m \u001b[43mgenerate_key_pair\u001b[49m\u001b[43m(\u001b[49m\u001b[38;5;241;43m7\u001b[39;49m\u001b[43m,\u001b[49m\u001b[43m \u001b[49m\u001b[38;5;241;43m57\u001b[39;49m\u001b[43m,\u001b[49m\u001b[43m \u001b[49m\u001b[38;5;241;43m197\u001b[39;49m\u001b[43m)\u001b[49m\n\u001b[0;32m      2\u001b[0m \u001b[38;5;66;03m#print(\"Public Key:\", public_key)\u001b[39;00m\n\u001b[0;32m      3\u001b[0m \u001b[38;5;66;03m#print(\"Private Key:\", private_key)\u001b[39;00m\n",
      "Cell \u001b[1;32mIn[11], line 24\u001b[0m, in \u001b[0;36mgenerate_key_pair\u001b[1;34m(r, m, v)\u001b[0m\n\u001b[0;32m     21\u001b[0m Q1 \u001b[38;5;241m=\u001b[39m public_sponge\u001b[38;5;241m.\u001b[39mread(m \u001b[38;5;241m*\u001b[39m (v \u001b[38;5;241m*\u001b[39m (v \u001b[38;5;241m+\u001b[39m \u001b[38;5;241m1\u001b[39m) \u001b[38;5;241m/\u001b[39m\u001b[38;5;241m/\u001b[39m \u001b[38;5;241m2\u001b[39m \u001b[38;5;241m+\u001b[39m v \u001b[38;5;241m*\u001b[39m m))  \u001b[38;5;66;03m# Primera parte cuadrática Q1\u001b[39;00m\n\u001b[0;32m     23\u001b[0m \u001b[38;5;66;03m# Paso 4: Generar Q2 a partir de T y Q1\u001b[39;00m\n\u001b[1;32m---> 24\u001b[0m Q2 \u001b[38;5;241m=\u001b[39m \u001b[43mfind_Q2\u001b[49m\u001b[43m(\u001b[49m\u001b[43mQ1\u001b[49m\u001b[43m,\u001b[49m\u001b[43m \u001b[49m\u001b[43mT\u001b[49m\u001b[43m,\u001b[49m\u001b[43m \u001b[49m\u001b[43mm\u001b[49m\u001b[43m,\u001b[49m\u001b[43m \u001b[49m\u001b[43mv\u001b[49m\u001b[43m)\u001b[49m  \u001b[38;5;66;03m# Implementa la función find_Q2 según la especificación\u001b[39;00m\n\u001b[0;32m     26\u001b[0m \u001b[38;5;66;03m# Llave pública consiste en la semilla pública y Q2\u001b[39;00m\n\u001b[0;32m     27\u001b[0m public_key \u001b[38;5;241m=\u001b[39m (public_seed, Q2)\n",
      "Cell \u001b[1;32mIn[11], line 37\u001b[0m, in \u001b[0;36mfind_Q2\u001b[1;34m(Q1, T, m, v)\u001b[0m\n\u001b[0;32m     35\u001b[0m Q2 \u001b[38;5;241m=\u001b[39m []\n\u001b[0;32m     36\u001b[0m \u001b[38;5;28;01mfor\u001b[39;00m k \u001b[38;5;129;01min\u001b[39;00m \u001b[38;5;28mrange\u001b[39m(m):\n\u001b[1;32m---> 37\u001b[0m     Pk1 \u001b[38;5;241m=\u001b[39m \u001b[43mfind_Pk1\u001b[49m\u001b[43m(\u001b[49m\u001b[43mk\u001b[49m\u001b[43m,\u001b[49m\u001b[43m \u001b[49m\u001b[43mQ1\u001b[49m\u001b[43m,\u001b[49m\u001b[43m \u001b[49m\u001b[43mv\u001b[49m\u001b[43m)\u001b[49m\n\u001b[0;32m     38\u001b[0m     Pk2 \u001b[38;5;241m=\u001b[39m find_Pk2(k, Q1, v, m)\n\u001b[0;32m     39\u001b[0m     Pk3 \u001b[38;5;241m=\u001b[39m compute_Pk3(Pk1, Pk2, T, v, m)\n",
      "Cell \u001b[1;32mIn[11], line 49\u001b[0m, in \u001b[0;36mfind_Pk1\u001b[1;34m(k, Q1, v)\u001b[0m\n\u001b[0;32m     47\u001b[0m \u001b[38;5;28;01mfor\u001b[39;00m i \u001b[38;5;129;01min\u001b[39;00m \u001b[38;5;28mrange\u001b[39m(v):\n\u001b[0;32m     48\u001b[0m     \u001b[38;5;28;01mfor\u001b[39;00m j \u001b[38;5;129;01min\u001b[39;00m \u001b[38;5;28mrange\u001b[39m(i, v):\n\u001b[1;32m---> 49\u001b[0m         Pk1[i][j] \u001b[38;5;241m=\u001b[39m Q1[k \u001b[38;5;241m*\u001b[39m (v \u001b[38;5;241m*\u001b[39m (v \u001b[38;5;241m+\u001b[39m \u001b[38;5;241m1\u001b[39m) \u001b[38;5;241m/\u001b[39m\u001b[38;5;241m/\u001b[39m \u001b[38;5;241m2\u001b[39m \u001b[38;5;241m+\u001b[39m v \u001b[38;5;241m*\u001b[39m \u001b[43mm\u001b[49m) \u001b[38;5;241m+\u001b[39m column]\n\u001b[0;32m     50\u001b[0m         column \u001b[38;5;241m+\u001b[39m\u001b[38;5;241m=\u001b[39m \u001b[38;5;241m1\u001b[39m\n\u001b[0;32m     51\u001b[0m \u001b[38;5;28;01mreturn\u001b[39;00m Pk1\n",
      "\u001b[1;31mNameError\u001b[0m: name 'm' is not defined"
     ]
    }
   ],
   "source": [
    "generate_key_pair(7, 57, 197)\n",
    "#print(\"Public Key:\", public_key)\n",
    "#print(\"Private Key:\", private_key)"
   ]
  }
 ],
 "metadata": {
  "kernelspec": {
   "display_name": "Python 3",
   "language": "python",
   "name": "python3"
  },
  "language_info": {
   "codemirror_mode": {
    "name": "ipython",
    "version": 3
   },
   "file_extension": ".py",
   "mimetype": "text/x-python",
   "name": "python",
   "nbconvert_exporter": "python",
   "pygments_lexer": "ipython3",
   "version": "3.11.4"
  }
 },
 "nbformat": 4,
 "nbformat_minor": 2
}
